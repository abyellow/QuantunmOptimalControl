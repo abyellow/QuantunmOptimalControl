{
 "cells": [
  {
   "cell_type": "markdown",
   "metadata": {
    "collapsed": true
   },
   "source": [
    "# Qunatum optimal control example"
   ]
  },
  {
   "cell_type": "code",
   "execution_count": null,
   "metadata": {
    "collapsed": true
   },
   "outputs": [],
   "source": []
  },
  {
   "cell_type": "code",
   "execution_count": 2,
   "metadata": {
    "collapsed": true
   },
   "outputs": [],
   "source": [
    "import numpy as np\n",
    "import matplotlib.pyplot as plt\n",
    "from qoct import QH, QOCT\n",
    "%matplotlib inline"
   ]
  },
  {
   "cell_type": "code",
   "execution_count": null,
   "metadata": {
    "collapsed": true
   },
   "outputs": [],
   "source": []
  },
  {
   "cell_type": "code",
   "execution_count": 3,
   "metadata": {
    "collapsed": true
   },
   "outputs": [],
   "source": [
    "H0 = [[1,1],[1,1]]\n",
    "Hctr = [[1,0],[0,-1]]\n",
    "ctrl_i = .1*np.ones(1000)\n",
    "phi_i = [[0],[1]]"
   ]
  },
  {
   "cell_type": "code",
   "execution_count": null,
   "metadata": {
    "collapsed": true
   },
   "outputs": [],
   "source": []
  },
  {
   "cell_type": "code",
   "execution_count": 4,
   "metadata": {
    "collapsed": true
   },
   "outputs": [],
   "source": [
    "qh_test = QH(H0, Hctr, ctrl_i, phi_i)\n",
    "time = qh_test.real_tim\n",
    "phi = qh_test.phi_t()"
   ]
  },
  {
   "cell_type": "code",
   "execution_count": null,
   "metadata": {
    "collapsed": true
   },
   "outputs": [],
   "source": []
  },
  {
   "cell_type": "code",
   "execution_count": 5,
   "metadata": {
    "collapsed": false
   },
   "outputs": [
    {
     "ename": "AttributeError",
     "evalue": "QH instance has no attribute 'prob_t'",
     "output_type": "error",
     "traceback": [
      "\u001b[1;31m---------------------------------------------------------------------------\u001b[0m",
      "\u001b[1;31mAttributeError\u001b[0m                            Traceback (most recent call last)",
      "\u001b[1;32m<ipython-input-5-405696acd3fa>\u001b[0m in \u001b[0;36m<module>\u001b[1;34m()\u001b[0m\n\u001b[1;32m----> 1\u001b[1;33m \u001b[0mprob\u001b[0m \u001b[1;33m=\u001b[0m \u001b[0mqh_test\u001b[0m\u001b[1;33m.\u001b[0m\u001b[0mprob_t\u001b[0m\u001b[1;33m(\u001b[0m\u001b[0mphi\u001b[0m\u001b[1;33m)\u001b[0m\u001b[1;33m\u001b[0m\u001b[0m\n\u001b[0m\u001b[0;32m      2\u001b[0m \u001b[0mplt\u001b[0m\u001b[1;33m.\u001b[0m\u001b[0mplot\u001b[0m\u001b[1;33m(\u001b[0m\u001b[0mtime\u001b[0m\u001b[1;33m,\u001b[0m \u001b[0mprob\u001b[0m\u001b[1;33m[\u001b[0m\u001b[1;33m:\u001b[0m\u001b[1;33m,\u001b[0m\u001b[1;36m0\u001b[0m\u001b[1;33m,\u001b[0m\u001b[1;33m:\u001b[0m\u001b[1;33m]\u001b[0m\u001b[1;33m,\u001b[0m\u001b[1;34m'r'\u001b[0m\u001b[1;33m)\u001b[0m\u001b[1;33m\u001b[0m\u001b[0m\n\u001b[0;32m      3\u001b[0m \u001b[0mplt\u001b[0m\u001b[1;33m.\u001b[0m\u001b[0mplot\u001b[0m\u001b[1;33m(\u001b[0m\u001b[0mtime\u001b[0m\u001b[1;33m,\u001b[0m \u001b[0mprob\u001b[0m\u001b[1;33m[\u001b[0m\u001b[1;33m:\u001b[0m\u001b[1;33m,\u001b[0m\u001b[1;36m1\u001b[0m\u001b[1;33m,\u001b[0m\u001b[1;33m:\u001b[0m\u001b[1;33m]\u001b[0m\u001b[1;33m,\u001b[0m\u001b[1;34m'b'\u001b[0m\u001b[1;33m)\u001b[0m\u001b[1;33m\u001b[0m\u001b[0m\n\u001b[0;32m      4\u001b[0m \u001b[0mplt\u001b[0m\u001b[1;33m.\u001b[0m\u001b[0mshow\u001b[0m\u001b[1;33m(\u001b[0m\u001b[1;33m)\u001b[0m\u001b[1;33m\u001b[0m\u001b[0m\n",
      "\u001b[1;31mAttributeError\u001b[0m: QH instance has no attribute 'prob_t'"
     ]
    }
   ],
   "source": [
    "prob = qh_test.prob_t(phi)\n",
    "plt.plot(time, prob[:,0,:],'r')\n",
    "plt.plot(time, prob[:,1,:],'b')\n",
    "plt.show()"
   ]
  },
  {
   "cell_type": "code",
   "execution_count": null,
   "metadata": {
    "collapsed": true
   },
   "outputs": [],
   "source": []
  },
  {
   "cell_type": "code",
   "execution_count": 6,
   "metadata": {
    "collapsed": false
   },
   "outputs": [
    {
     "name": "stdout",
     "output_type": "stream",
     "text": [
      "IterTime: 1,   Error: [[ 0.41772765]],   TotTime: 1.834348,   AvgTime: 1.834351\n",
      "IterTime: 2,   Error: [[ 0.40510971]],   TotTime: 3.675256,   AvgTime: 1.83763\n",
      "IterTime: 3,   Error: [[ 0.37749053]],   TotTime: 5.496334,   AvgTime: 1.83211266667\n",
      "IterTime: 4,   Error: [[ 0.34065728]],   TotTime: 7.378928,   AvgTime: 1.844733\n",
      "IterTime: 5,   Error: [[ 0.29959084]],   TotTime: 9.22213,   AvgTime: 1.844427\n",
      "IterTime: 6,   Error: [[ 0.25793452]],   TotTime: 11.095524,   AvgTime: 1.8492545\n",
      "IterTime: 7,   Error: [[ 0.2180953]],   TotTime: 12.935817,   AvgTime: 1.84797428571\n",
      "IterTime: 8,   Error: [[ 0.18152506]],   TotTime: 14.731488,   AvgTime: 1.841436375\n",
      "IterTime: 9,   Error: [[ 0.14898593]],   TotTime: 16.588833,   AvgTime: 1.84320411111\n",
      "IterTime: 10,   Error: [[ 0.12075597]],   TotTime: 18.404746,   AvgTime: 1.8404749\n",
      "IterTime: 11,   Error: [[ 0.09678232]],   TotTime: 20.200389,   AvgTime: 1.83639927273\n",
      "IterTime: 12,   Error: [[ 0.07679663]],   TotTime: 22.119094,   AvgTime: 1.84325816667\n",
      "IterTime: 13,   Error: [[ 0.06040331]],   TotTime: 24.147293,   AvgTime: 1.85748438462\n",
      "IterTime: 14,   Error: [[ 0.04714624]],   TotTime: 26.051928,   AvgTime: 1.86085228571\n",
      "IterTime: 15,   Error: [[ 0.03655745]],   TotTime: 28.069337,   AvgTime: 1.8712894\n",
      "IterTime: 16,   Error: [[ 0.02819009]],   TotTime: 30.078061,   AvgTime: 1.8798790625\n",
      "IterTime: 17,   Error: [[ 0.02163854]],   TotTime: 31.901622,   AvgTime: 1.87656623529\n",
      "IterTime: 18,   Error: [[ 0.01654842]],   TotTime: 33.804562,   AvgTime: 1.8780315\n",
      "IterTime: 19,   Error: [[ 0.01261923]],   TotTime: 35.842767,   AvgTime: 1.88646163158\n",
      "IterTime: 20,   Error: [[ 0.00960221]],   TotTime: 37.902329,   AvgTime: 1.89511665\n",
      "IterTime: 21,   Error: [[ 0.00729543]],   TotTime: 39.930995,   AvgTime: 1.90147614286\n",
      "IterTime: 22,   Error: [[ 0.00553753]],   TotTime: 42.543959,   AvgTime: 1.9338165\n",
      "IterTime: 23,   Error: [[ 0.00420127]],   TotTime: 45.422826,   AvgTime: 1.97490565217\n",
      "IterTime: 24,   Error: [[ 0.00318732]],   TotTime: 48.253438,   AvgTime: 2.01056008333\n",
      "IterTime: 25,   Error: [[ 0.00241885]],   TotTime: 51.007911,   AvgTime: 2.0403166\n",
      "IterTime: 26,   Error: [[ 0.0018368]],   TotTime: 53.57766,   AvgTime: 2.06067938462\n",
      "IterTime: 27,   Error: [[ 0.00139602]],   TotTime: 56.128186,   AvgTime: 2.07882185185\n",
      "IterTime: 28,   Error: [[ 0.00106216]],   TotTime: 58.732071,   AvgTime: 2.09757410714\n",
      "IterTime: 29,   Error: [[ 0.00080914]],   TotTime: 61.569043,   AvgTime: 2.12307058621\n",
      "IterTime: 30,   Error: [[ 0.00061725]],   TotTime: 64.404841,   AvgTime: 2.1468282\n",
      "IterTime: 31,   Error: [[ 0.00047155]],   TotTime: 67.069483,   AvgTime: 2.16353183871\n",
      "IterTime: 32,   Error: [[ 0.0003608]],   TotTime: 68.989476,   AvgTime: 2.15592125\n",
      "IterTime: 33,   Error: [[ 0.00027651]],   TotTime: 70.954896,   AvgTime: 2.15014848485\n",
      "IterTime: 34,   Error: [[ 0.00021225]],   TotTime: 73.115204,   AvgTime: 2.15044729412\n",
      "IterTime: 35,   Error: [[ 0.00016319]],   TotTime: 75.857998,   AvgTime: 2.16737151429\n",
      "IterTime: 36,   Error: [[ 0.00012567]],   TotTime: 78.954292,   AvgTime: 2.19317491667\n",
      "IterTime: 37,   Error: [[  9.69336162e-05]],   TotTime: 82.031511,   AvgTime: 2.217068\n"
     ]
    },
    {
     "data": {
      "image/png": "[encoded data removed]",
      "text/plain": [
       "<matplotlib.figure.Figure at 0x7fed286d89d0>"
      ]
     },
     "metadata": {},
     "output_type": "display_data"
    }
   ],
   "source": [
    "phi_g = [[1],[0]]\n",
    "qoct_test = QOCT(qh_test, phi_g)\n",
    "ctrl_test = qoct_test.run()\t\n",
    "plt.plot(time[:-1], ctrl_test)\n",
    "plt.show()"
   ]
  },
  {
   "cell_type": "code",
   "execution_count": null,
   "metadata": {
    "collapsed": true
   },
   "outputs": [],
   "source": []
  },
  {
   "cell_type": "code",
   "execution_count": 7,
   "metadata": {
    "collapsed": false
   },
   "outputs": [
    {
     "ename": "AttributeError",
     "evalue": "QH instance has no attribute 'prob_t'",
     "output_type": "error",
     "traceback": [
      "\u001b[1;31m---------------------------------------------------------------------------\u001b[0m",
      "\u001b[1;31mAttributeError\u001b[0m                            Traceback (most recent call last)",
      "\u001b[1;32m<ipython-input-7-ba631d4900e4>\u001b[0m in \u001b[0;36m<module>\u001b[1;34m()\u001b[0m\n\u001b[0;32m      1\u001b[0m \u001b[0mphi_new\u001b[0m \u001b[1;33m=\u001b[0m \u001b[0mqh_test\u001b[0m\u001b[1;33m.\u001b[0m\u001b[0mphi_t\u001b[0m\u001b[1;33m(\u001b[0m\u001b[1;33m)\u001b[0m\u001b[1;33m\u001b[0m\u001b[0m\n\u001b[1;32m----> 2\u001b[1;33m \u001b[0mprob_new\u001b[0m \u001b[1;33m=\u001b[0m \u001b[0mqh_test\u001b[0m\u001b[1;33m.\u001b[0m\u001b[0mprob_t\u001b[0m\u001b[1;33m(\u001b[0m\u001b[0mphi_new\u001b[0m\u001b[1;33m)\u001b[0m\u001b[1;33m\u001b[0m\u001b[0m\n\u001b[0m\u001b[0;32m      3\u001b[0m \u001b[1;33m\u001b[0m\u001b[0m\n\u001b[0;32m      4\u001b[0m \u001b[0mplt\u001b[0m\u001b[1;33m.\u001b[0m\u001b[0mplot\u001b[0m\u001b[1;33m(\u001b[0m\u001b[0mtime\u001b[0m\u001b[1;33m,\u001b[0m \u001b[0mprob_new\u001b[0m\u001b[1;33m[\u001b[0m\u001b[1;33m:\u001b[0m\u001b[1;33m,\u001b[0m\u001b[1;36m0\u001b[0m\u001b[1;33m,\u001b[0m\u001b[1;33m:\u001b[0m\u001b[1;33m]\u001b[0m\u001b[1;33m,\u001b[0m\u001b[1;34m'r'\u001b[0m\u001b[1;33m)\u001b[0m\u001b[1;33m\u001b[0m\u001b[0m\n\u001b[0;32m      5\u001b[0m \u001b[0mplt\u001b[0m\u001b[1;33m.\u001b[0m\u001b[0mplot\u001b[0m\u001b[1;33m(\u001b[0m\u001b[0mtime\u001b[0m\u001b[1;33m,\u001b[0m \u001b[0mprob_new\u001b[0m\u001b[1;33m[\u001b[0m\u001b[1;33m:\u001b[0m\u001b[1;33m,\u001b[0m\u001b[1;36m1\u001b[0m\u001b[1;33m,\u001b[0m\u001b[1;33m:\u001b[0m\u001b[1;33m]\u001b[0m\u001b[1;33m,\u001b[0m\u001b[1;34m'b'\u001b[0m\u001b[1;33m)\u001b[0m\u001b[1;33m\u001b[0m\u001b[0m\n",
      "\u001b[1;31mAttributeError\u001b[0m: QH instance has no attribute 'prob_t'"
     ]
    }
   ],
   "source": [
    "phi_new = qh_test.phi_t()\n",
    "prob_new = qh_test.prob_t(phi_new)\n",
    "\n",
    "plt.plot(time, prob_new[:,0,:],'r')\n",
    "plt.plot(time, prob_new[:,1,:],'b')\n",
    "plt.show()"
   ]
  },
  {
   "cell_type": "code",
   "execution_count": null,
   "metadata": {
    "collapsed": true
   },
   "outputs": [],
   "source": []
  },
  {
   "cell_type": "code",
   "execution_count": 8,
   "metadata": {
    "collapsed": true
   },
   "outputs": [],
   "source": [
    "lon = np.size(ctrl_test)\n",
    "ctrl_lon = np.zeros(3*lon)\n",
    "ctrl_lon[lon:2*lon ] = ctrl_test[:]"
   ]
  },
  {
   "cell_type": "code",
   "execution_count": null,
   "metadata": {
    "collapsed": true
   },
   "outputs": [],
   "source": []
  },
  {
   "cell_type": "code",
   "execution_count": 9,
   "metadata": {
    "collapsed": false
   },
   "outputs": [
    {
     "ename": "AttributeError",
     "evalue": "QH instance has no attribute 'prob_t'",
     "output_type": "error",
     "traceback": [
      "\u001b[1;31m---------------------------------------------------------------------------\u001b[0m",
      "\u001b[1;31mAttributeError\u001b[0m                            Traceback (most recent call last)",
      "\u001b[1;32m<ipython-input-9-40bdb97cf216>\u001b[0m in \u001b[0;36m<module>\u001b[1;34m()\u001b[0m\n\u001b[0;32m      3\u001b[0m \u001b[0mphi2\u001b[0m \u001b[1;33m=\u001b[0m \u001b[0mqh_test2\u001b[0m\u001b[1;33m.\u001b[0m\u001b[0mphi_t\u001b[0m\u001b[1;33m(\u001b[0m\u001b[1;33m)\u001b[0m\u001b[1;33m\u001b[0m\u001b[0m\n\u001b[0;32m      4\u001b[0m \u001b[1;33m\u001b[0m\u001b[0m\n\u001b[1;32m----> 5\u001b[1;33m \u001b[0mprob2\u001b[0m \u001b[1;33m=\u001b[0m \u001b[0mqh_test2\u001b[0m\u001b[1;33m.\u001b[0m\u001b[0mprob_t\u001b[0m\u001b[1;33m(\u001b[0m\u001b[0mphi2\u001b[0m\u001b[1;33m)\u001b[0m\u001b[1;33m\u001b[0m\u001b[0m\n\u001b[0m\u001b[0;32m      6\u001b[0m \u001b[0mplt\u001b[0m\u001b[1;33m.\u001b[0m\u001b[0mplot\u001b[0m\u001b[1;33m(\u001b[0m\u001b[0mtime2\u001b[0m\u001b[1;33m,\u001b[0m \u001b[0mprob2\u001b[0m\u001b[1;33m[\u001b[0m\u001b[1;33m:\u001b[0m\u001b[1;33m,\u001b[0m\u001b[1;36m0\u001b[0m\u001b[1;33m,\u001b[0m\u001b[1;33m:\u001b[0m\u001b[1;33m]\u001b[0m\u001b[1;33m,\u001b[0m\u001b[1;34m'r'\u001b[0m\u001b[1;33m)\u001b[0m\u001b[1;33m\u001b[0m\u001b[0m\n\u001b[0;32m      7\u001b[0m \u001b[0mplt\u001b[0m\u001b[1;33m.\u001b[0m\u001b[0mplot\u001b[0m\u001b[1;33m(\u001b[0m\u001b[0mtime2\u001b[0m\u001b[1;33m,\u001b[0m \u001b[0mprob2\u001b[0m\u001b[1;33m[\u001b[0m\u001b[1;33m:\u001b[0m\u001b[1;33m,\u001b[0m\u001b[1;36m1\u001b[0m\u001b[1;33m,\u001b[0m\u001b[1;33m:\u001b[0m\u001b[1;33m]\u001b[0m\u001b[1;33m,\u001b[0m\u001b[1;34m'b'\u001b[0m\u001b[1;33m)\u001b[0m\u001b[1;33m\u001b[0m\u001b[0m\n",
      "\u001b[1;31mAttributeError\u001b[0m: QH instance has no attribute 'prob_t'"
     ]
    }
   ],
   "source": [
    "qh_test2 = QH(H0, Hctr, ctrl_lon, phi_i)\n",
    "time2 = qh_test2.real_tim\n",
    "phi2 = qh_test2.phi_t()\n",
    "\n",
    "prob2 = qh_test2.prob_t(phi2)\n",
    "plt.plot(time2, prob2[:,0,:],'r')\n",
    "plt.plot(time2, prob2[:,1,:],'b')\n",
    "plt.show()"
   ]
  }
 ],
 "metadata": {
  "kernelspec": {
   "display_name": "Python 2",
   "language": "python",
   "name": "python2"
  },
  "language_info": {
   "codemirror_mode": {
    "name": "ipython",
    "version": 2
   },
   "file_extension": ".py",
   "mimetype": "text/x-python",
   "name": "python",
   "nbconvert_exporter": "python",
   "pygments_lexer": "ipython2",
   "version": "2.7.10"
  }
 },
 "nbformat": 4,
 "nbformat_minor": 0
}
